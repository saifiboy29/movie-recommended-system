{
 "cells": [
  {
   "cell_type": "code",
   "execution_count": 34,
   "id": "4b962114-ef1c-4985-8291-4f507896ced6",
   "metadata": {},
   "outputs": [],
   "source": [
    "import pandas as pd\n",
    "import ast\n",
    "\n",
    "# Load data\n",
    "movies = pd.read_csv(\"movies.csv\")\n",
    "credits = pd.read_csv(\"credits.csv\")\n",
    "\n",
    "# Merge on title\n",
    "movies = movies.merge(credits, on='title')\n",
    "\n",
    "# Keep only the needed columns\n",
    "movies = movies[['genres', 'id', 'keywords', 'title', 'overview', 'cast', 'crew']]\n",
    "\n",
    "# Convert cast to string format if needed\n",
    "def convert_cast(text):\n",
    "    try:\n",
    "        return ast.literal_eval(text)\n",
    "    except:\n",
    "        return []\n",
    "\n",
    "movies['cast'] = movies['cast'].apply(convert_cast)\n",
    "\n",
    "# Extract only Director from crew column\n",
    "def fetch_director(text):\n",
    "    try:\n",
    "        crew_list = ast.literal_eval(text)\n",
    "        for member in crew_list:\n",
    "            if member['job'] == 'Director':\n",
    "                return [member['name']]  # 👈 Return as a list\n",
    "    except:\n",
    "        return []\n",
    "\n",
    "\n"
   ]
  },
  {
   "cell_type": "code",
   "execution_count": 35,
   "id": "6f12d097-2804-4099-a012-5ac3c27d9135",
   "metadata": {},
   "outputs": [
    {
     "data": {
      "text/html": [
       "<div>\n",
       "<style scoped>\n",
       "    .dataframe tbody tr th:only-of-type {\n",
       "        vertical-align: middle;\n",
       "    }\n",
       "\n",
       "    .dataframe tbody tr th {\n",
       "        vertical-align: top;\n",
       "    }\n",
       "\n",
       "    .dataframe thead th {\n",
       "        text-align: right;\n",
       "    }\n",
       "</style>\n",
       "<table border=\"1\" class=\"dataframe\">\n",
       "  <thead>\n",
       "    <tr style=\"text-align: right;\">\n",
       "      <th></th>\n",
       "      <th>genres</th>\n",
       "      <th>id</th>\n",
       "      <th>keywords</th>\n",
       "      <th>title</th>\n",
       "      <th>overview</th>\n",
       "      <th>cast</th>\n",
       "      <th>crew</th>\n",
       "    </tr>\n",
       "  </thead>\n",
       "  <tbody>\n",
       "    <tr>\n",
       "      <th>0</th>\n",
       "      <td>[{\"id\": 28, \"name\": \"Action\"}, {\"id\": 12, \"nam...</td>\n",
       "      <td>19995</td>\n",
       "      <td>[{\"id\": 1463, \"name\": \"culture clash\"}, {\"id\":...</td>\n",
       "      <td>Avatar</td>\n",
       "      <td>In the 22nd century, a paraplegic Marine is di...</td>\n",
       "      <td>[{'cast_id': 242, 'character': 'Jake Sully', '...</td>\n",
       "      <td>[James Cameron]</td>\n",
       "    </tr>\n",
       "    <tr>\n",
       "      <th>1</th>\n",
       "      <td>[{\"id\": 12, \"name\": \"Adventure\"}, {\"id\": 14, \"...</td>\n",
       "      <td>285</td>\n",
       "      <td>[{\"id\": 270, \"name\": \"ocean\"}, {\"id\": 726, \"na...</td>\n",
       "      <td>Pirates of the Caribbean: At World's End</td>\n",
       "      <td>Captain Barbossa, long believed to be dead, ha...</td>\n",
       "      <td>[{'cast_id': 4, 'character': 'Captain Jack Spa...</td>\n",
       "      <td>[Gore Verbinski]</td>\n",
       "    </tr>\n",
       "    <tr>\n",
       "      <th>2</th>\n",
       "      <td>[{\"id\": 28, \"name\": \"Action\"}, {\"id\": 12, \"nam...</td>\n",
       "      <td>206647</td>\n",
       "      <td>[{\"id\": 470, \"name\": \"spy\"}, {\"id\": 818, \"name...</td>\n",
       "      <td>Spectre</td>\n",
       "      <td>A cryptic message from Bond’s past sends him o...</td>\n",
       "      <td>[{'cast_id': 1, 'character': 'James Bond', 'cr...</td>\n",
       "      <td>[Sam Mendes]</td>\n",
       "    </tr>\n",
       "    <tr>\n",
       "      <th>3</th>\n",
       "      <td>[{\"id\": 28, \"name\": \"Action\"}, {\"id\": 80, \"nam...</td>\n",
       "      <td>49026</td>\n",
       "      <td>[{\"id\": 849, \"name\": \"dc comics\"}, {\"id\": 853,...</td>\n",
       "      <td>The Dark Knight Rises</td>\n",
       "      <td>Following the death of District Attorney Harve...</td>\n",
       "      <td>[{'cast_id': 2, 'character': 'Bruce Wayne / Ba...</td>\n",
       "      <td>[Christopher Nolan]</td>\n",
       "    </tr>\n",
       "    <tr>\n",
       "      <th>4</th>\n",
       "      <td>[{\"id\": 28, \"name\": \"Action\"}, {\"id\": 12, \"nam...</td>\n",
       "      <td>49529</td>\n",
       "      <td>[{\"id\": 818, \"name\": \"based on novel\"}, {\"id\":...</td>\n",
       "      <td>John Carter</td>\n",
       "      <td>John Carter is a war-weary, former military ca...</td>\n",
       "      <td>[{'cast_id': 5, 'character': 'John Carter', 'c...</td>\n",
       "      <td>[Andrew Stanton]</td>\n",
       "    </tr>\n",
       "  </tbody>\n",
       "</table>\n",
       "</div>"
      ],
      "text/plain": [
       "                                              genres      id  \\\n",
       "0  [{\"id\": 28, \"name\": \"Action\"}, {\"id\": 12, \"nam...   19995   \n",
       "1  [{\"id\": 12, \"name\": \"Adventure\"}, {\"id\": 14, \"...     285   \n",
       "2  [{\"id\": 28, \"name\": \"Action\"}, {\"id\": 12, \"nam...  206647   \n",
       "3  [{\"id\": 28, \"name\": \"Action\"}, {\"id\": 80, \"nam...   49026   \n",
       "4  [{\"id\": 28, \"name\": \"Action\"}, {\"id\": 12, \"nam...   49529   \n",
       "\n",
       "                                            keywords  \\\n",
       "0  [{\"id\": 1463, \"name\": \"culture clash\"}, {\"id\":...   \n",
       "1  [{\"id\": 270, \"name\": \"ocean\"}, {\"id\": 726, \"na...   \n",
       "2  [{\"id\": 470, \"name\": \"spy\"}, {\"id\": 818, \"name...   \n",
       "3  [{\"id\": 849, \"name\": \"dc comics\"}, {\"id\": 853,...   \n",
       "4  [{\"id\": 818, \"name\": \"based on novel\"}, {\"id\":...   \n",
       "\n",
       "                                      title  \\\n",
       "0                                    Avatar   \n",
       "1  Pirates of the Caribbean: At World's End   \n",
       "2                                   Spectre   \n",
       "3                     The Dark Knight Rises   \n",
       "4                               John Carter   \n",
       "\n",
       "                                            overview  \\\n",
       "0  In the 22nd century, a paraplegic Marine is di...   \n",
       "1  Captain Barbossa, long believed to be dead, ha...   \n",
       "2  A cryptic message from Bond’s past sends him o...   \n",
       "3  Following the death of District Attorney Harve...   \n",
       "4  John Carter is a war-weary, former military ca...   \n",
       "\n",
       "                                                cast                 crew  \n",
       "0  [{'cast_id': 242, 'character': 'Jake Sully', '...      [James Cameron]  \n",
       "1  [{'cast_id': 4, 'character': 'Captain Jack Spa...     [Gore Verbinski]  \n",
       "2  [{'cast_id': 1, 'character': 'James Bond', 'cr...         [Sam Mendes]  \n",
       "3  [{'cast_id': 2, 'character': 'Bruce Wayne / Ba...  [Christopher Nolan]  \n",
       "4  [{'cast_id': 5, 'character': 'John Carter', 'c...     [Andrew Stanton]  "
      ]
     },
     "execution_count": 35,
     "metadata": {},
     "output_type": "execute_result"
    }
   ],
   "source": [
    "\n",
    "movies['crew'] = movies['crew'].apply(fetch_director)\n",
    "\n",
    "# Show cleaned dataframe\n",
    "movies.head()"
   ]
  },
  {
   "cell_type": "code",
   "execution_count": 3,
   "id": "0a0681e7-d603-4bb0-9b7a-63070e964cda",
   "metadata": {},
   "outputs": [
    {
     "data": {
      "text/plain": [
       "0           James Cameron\n",
       "1          Gore Verbinski\n",
       "2              Sam Mendes\n",
       "3       Christopher Nolan\n",
       "4          Andrew Stanton\n",
       "              ...        \n",
       "4804     Robert Rodriguez\n",
       "4805         Edward Burns\n",
       "4806          Scott Smith\n",
       "4807          Daniel Hsia\n",
       "4808     Brian Herzlinger\n",
       "Name: crew, Length: 4809, dtype: object"
      ]
     },
     "execution_count": 3,
     "metadata": {},
     "output_type": "execute_result"
    }
   ],
   "source": [
    "movies[\"crew\"]"
   ]
  },
  {
   "cell_type": "code",
   "execution_count": 4,
   "id": "92462093-7211-40aa-ad65-241b9d98fc35",
   "metadata": {},
   "outputs": [],
   "source": [
    "import ast  # for literal_eval\n",
    "\n",
    "def convert(obj):\n",
    "    L = []\n",
    "    for i in ast.literal_eval(obj):\n",
    "        L.append(i['name'])\n",
    "    return L"
   ]
  },
  {
   "cell_type": "code",
   "execution_count": 5,
   "id": "9e3c268b-eb00-4536-b2f8-56fce9e5839b",
   "metadata": {},
   "outputs": [],
   "source": [
    "movies['genres'] = movies['genres'].apply(convert)\n"
   ]
  },
  {
   "cell_type": "code",
   "execution_count": 6,
   "id": "348f3123-eb03-4d3d-a436-f6293dfec64c",
   "metadata": {},
   "outputs": [],
   "source": [
    "movies['keywords'] = movies['keywords'].apply(convert)\n"
   ]
  },
  {
   "cell_type": "code",
   "execution_count": 10,
   "id": "6aec0548-52d2-4fb3-be26-03fa6191f0a9",
   "metadata": {},
   "outputs": [],
   "source": [
    "def convert2(obj):\n",
    "    L = []\n",
    "    counter = 0\n",
    "    for i in obj:  # Removed ast.literal_eval\n",
    "        if counter <= 2:\n",
    "            L.append(i['name'])\n",
    "            counter += 1\n",
    "        else:\n",
    "            break\n",
    "    return L\n",
    "\n"
   ]
  },
  {
   "cell_type": "code",
   "execution_count": 11,
   "id": "c8b38a51-05c7-479c-b348-3ecbee897a3a",
   "metadata": {},
   "outputs": [],
   "source": [
    "movies['cast'] = movies['cast'].apply(convert2)\n"
   ]
  },
  {
   "cell_type": "code",
   "execution_count": 15,
   "id": "f3d5f7ec-f27b-4117-b860-7b39de83e527",
   "metadata": {},
   "outputs": [
    {
     "data": {
      "text/html": [
       "<div>\n",
       "<style scoped>\n",
       "    .dataframe tbody tr th:only-of-type {\n",
       "        vertical-align: middle;\n",
       "    }\n",
       "\n",
       "    .dataframe tbody tr th {\n",
       "        vertical-align: top;\n",
       "    }\n",
       "\n",
       "    .dataframe thead th {\n",
       "        text-align: right;\n",
       "    }\n",
       "</style>\n",
       "<table border=\"1\" class=\"dataframe\">\n",
       "  <thead>\n",
       "    <tr style=\"text-align: right;\">\n",
       "      <th></th>\n",
       "      <th>genres</th>\n",
       "      <th>id</th>\n",
       "      <th>keywords</th>\n",
       "      <th>title</th>\n",
       "      <th>overview</th>\n",
       "      <th>cast</th>\n",
       "      <th>crew</th>\n",
       "    </tr>\n",
       "  </thead>\n",
       "  <tbody>\n",
       "    <tr>\n",
       "      <th>0</th>\n",
       "      <td>[Action, Adventure, Fantasy, Science Fiction]</td>\n",
       "      <td>19995</td>\n",
       "      <td>[culture clash, future, space war, space colon...</td>\n",
       "      <td>Avatar</td>\n",
       "      <td>[In, the, 22nd, century,, a, paraplegic, Marin...</td>\n",
       "      <td>[Sam Worthington, Zoe Saldana, Sigourney Weaver]</td>\n",
       "      <td>James Cameron</td>\n",
       "    </tr>\n",
       "    <tr>\n",
       "      <th>1</th>\n",
       "      <td>[Adventure, Fantasy, Action]</td>\n",
       "      <td>285</td>\n",
       "      <td>[ocean, drug abuse, exotic island, east india ...</td>\n",
       "      <td>Pirates of the Caribbean: At World's End</td>\n",
       "      <td>[Captain, Barbossa,, long, believed, to, be, d...</td>\n",
       "      <td>[Johnny Depp, Orlando Bloom, Keira Knightley]</td>\n",
       "      <td>Gore Verbinski</td>\n",
       "    </tr>\n",
       "    <tr>\n",
       "      <th>2</th>\n",
       "      <td>[Action, Adventure, Crime]</td>\n",
       "      <td>206647</td>\n",
       "      <td>[spy, based on novel, secret agent, sequel, mi...</td>\n",
       "      <td>Spectre</td>\n",
       "      <td>[A, cryptic, message, from, Bond’s, past, send...</td>\n",
       "      <td>[Daniel Craig, Christoph Waltz, Léa Seydoux]</td>\n",
       "      <td>Sam Mendes</td>\n",
       "    </tr>\n",
       "    <tr>\n",
       "      <th>3</th>\n",
       "      <td>[Action, Crime, Drama, Thriller]</td>\n",
       "      <td>49026</td>\n",
       "      <td>[dc comics, crime fighter, terrorist, secret i...</td>\n",
       "      <td>The Dark Knight Rises</td>\n",
       "      <td>[Following, the, death, of, District, Attorney...</td>\n",
       "      <td>[Christian Bale, Michael Caine, Gary Oldman]</td>\n",
       "      <td>Christopher Nolan</td>\n",
       "    </tr>\n",
       "    <tr>\n",
       "      <th>4</th>\n",
       "      <td>[Action, Adventure, Science Fiction]</td>\n",
       "      <td>49529</td>\n",
       "      <td>[based on novel, mars, medallion, space travel...</td>\n",
       "      <td>John Carter</td>\n",
       "      <td>[John, Carter, is, a, war-weary,, former, mili...</td>\n",
       "      <td>[Taylor Kitsch, Lynn Collins, Samantha Morton]</td>\n",
       "      <td>Andrew Stanton</td>\n",
       "    </tr>\n",
       "  </tbody>\n",
       "</table>\n",
       "</div>"
      ],
      "text/plain": [
       "                                          genres      id  \\\n",
       "0  [Action, Adventure, Fantasy, Science Fiction]   19995   \n",
       "1                   [Adventure, Fantasy, Action]     285   \n",
       "2                     [Action, Adventure, Crime]  206647   \n",
       "3               [Action, Crime, Drama, Thriller]   49026   \n",
       "4           [Action, Adventure, Science Fiction]   49529   \n",
       "\n",
       "                                            keywords  \\\n",
       "0  [culture clash, future, space war, space colon...   \n",
       "1  [ocean, drug abuse, exotic island, east india ...   \n",
       "2  [spy, based on novel, secret agent, sequel, mi...   \n",
       "3  [dc comics, crime fighter, terrorist, secret i...   \n",
       "4  [based on novel, mars, medallion, space travel...   \n",
       "\n",
       "                                      title  \\\n",
       "0                                    Avatar   \n",
       "1  Pirates of the Caribbean: At World's End   \n",
       "2                                   Spectre   \n",
       "3                     The Dark Knight Rises   \n",
       "4                               John Carter   \n",
       "\n",
       "                                            overview  \\\n",
       "0  [In, the, 22nd, century,, a, paraplegic, Marin...   \n",
       "1  [Captain, Barbossa,, long, believed, to, be, d...   \n",
       "2  [A, cryptic, message, from, Bond’s, past, send...   \n",
       "3  [Following, the, death, of, District, Attorney...   \n",
       "4  [John, Carter, is, a, war-weary,, former, mili...   \n",
       "\n",
       "                                               cast               crew  \n",
       "0  [Sam Worthington, Zoe Saldana, Sigourney Weaver]      James Cameron  \n",
       "1     [Johnny Depp, Orlando Bloom, Keira Knightley]     Gore Verbinski  \n",
       "2      [Daniel Craig, Christoph Waltz, Léa Seydoux]         Sam Mendes  \n",
       "3      [Christian Bale, Michael Caine, Gary Oldman]  Christopher Nolan  \n",
       "4    [Taylor Kitsch, Lynn Collins, Samantha Morton]     Andrew Stanton  "
      ]
     },
     "execution_count": 15,
     "metadata": {},
     "output_type": "execute_result"
    }
   ],
   "source": [
    "movies.head()"
   ]
  },
  {
   "cell_type": "code",
   "execution_count": 13,
   "id": "ea698eb1-310d-4fb7-be1e-7bab527bd6c3",
   "metadata": {},
   "outputs": [],
   "source": [
    "movies['overview'] = movies['overview'].apply(lambda x: x.split() if isinstance(x, str) else [])\n"
   ]
  },
  {
   "cell_type": "code",
   "execution_count": 26,
   "id": "e9f776a4-b39f-4a0a-be98-ee923275a468",
   "metadata": {},
   "outputs": [
    {
     "data": {
      "text/plain": [
       "0       [In, the, 22nd, century,, a, paraplegic, Marin...\n",
       "1       [Captain, Barbossa,, long, believed, to, be, d...\n",
       "2       [A, cryptic, message, from, Bond’s, past, send...\n",
       "3       [Following, the, death, of, District, Attorney...\n",
       "4       [John, Carter, is, a, war-weary,, former, mili...\n",
       "                              ...                        \n",
       "4804    [El, Mariachi, just, wants, to, play, his, gui...\n",
       "4805    [A, newlywed, couple's, honeymoon, is, upended...\n",
       "4806    [\"Signed,, Sealed,, Delivered\", introduces, a,...\n",
       "4807    [When, ambitious, New, York, attorney, Sam, is...\n",
       "4808    [Ever, since, the, second, grade, when, he, fi...\n",
       "Name: overview, Length: 4809, dtype: object"
      ]
     },
     "execution_count": 26,
     "metadata": {},
     "output_type": "execute_result"
    }
   ],
   "source": [
    "movies['overview']"
   ]
  },
  {
   "cell_type": "code",
   "execution_count": 19,
   "id": "a1142df1-498f-47cb-98d5-464bb4558125",
   "metadata": {},
   "outputs": [],
   "source": [
    "movies[\"genres\"] = movies[\"genres\"].apply(lambda x : [i.replace (\" \", \"\") for i in x])"
   ]
  },
  {
   "cell_type": "code",
   "execution_count": 25,
   "id": "b3e7aa1a-5510-4173-8dcd-1eea78b22907",
   "metadata": {},
   "outputs": [],
   "source": [
    "movies[\"crew\"] = movies[\"crew\"].apply(\n",
    "    lambda x: [i.replace(\" \", \"\") for i in x] if isinstance(x, list) else x\n",
    ")\n"
   ]
  },
  {
   "cell_type": "code",
   "execution_count": 21,
   "id": "66b38afb-a0a3-41e1-a6a2-7704909558ec",
   "metadata": {},
   "outputs": [],
   "source": [
    "movies[\"cast\"] = movies[\"cast\"].apply(lambda x : [i.replace (\" \", \"\") for i in x])"
   ]
  },
  {
   "cell_type": "code",
   "execution_count": 23,
   "id": "d7328649-f872-4795-aab2-81dc3133c66b",
   "metadata": {},
   "outputs": [],
   "source": [
    "movies[\"keywords\"] = movies[\"keywords\"].apply(lambda x : [i.replace (\" \", \"\") for i in x])"
   ]
  },
  {
   "cell_type": "code",
   "execution_count": 27,
   "id": "a543ee7f-5769-4378-bd65-a33b35a464e6",
   "metadata": {},
   "outputs": [
    {
     "data": {
      "text/plain": [
       "0       [In, the, 22nd, century,, a, paraplegic, Marin...\n",
       "1       [Captain, Barbossa,, long, believed, to, be, d...\n",
       "2       [A, cryptic, message, from, Bond’s, past, send...\n",
       "3       [Following, the, death, of, District, Attorney...\n",
       "4       [John, Carter, is, a, war-weary,, former, mili...\n",
       "                              ...                        \n",
       "4804    [El, Mariachi, just, wants, to, play, his, gui...\n",
       "4805    [A, newlywed, couple's, honeymoon, is, upended...\n",
       "4806    [\"Signed,, Sealed,, Delivered\", introduces, a,...\n",
       "4807    [When, ambitious, New, York, attorney, Sam, is...\n",
       "4808    [Ever, since, the, second, grade, when, he, fi...\n",
       "Name: overview, Length: 4809, dtype: object"
      ]
     },
     "execution_count": 27,
     "metadata": {},
     "output_type": "execute_result"
    }
   ],
   "source": [
    "movies[\"overview\"]"
   ]
  },
  {
   "cell_type": "code",
   "execution_count": 28,
   "id": "0a2d69ab-666e-44d6-ad86-a8efc2ae911e",
   "metadata": {},
   "outputs": [
    {
     "data": {
      "text/plain": [
       "0           James Cameron\n",
       "1          Gore Verbinski\n",
       "2              Sam Mendes\n",
       "3       Christopher Nolan\n",
       "4          Andrew Stanton\n",
       "              ...        \n",
       "4804     Robert Rodriguez\n",
       "4805         Edward Burns\n",
       "4806          Scott Smith\n",
       "4807          Daniel Hsia\n",
       "4808     Brian Herzlinger\n",
       "Name: crew, Length: 4809, dtype: object"
      ]
     },
     "execution_count": 28,
     "metadata": {},
     "output_type": "execute_result"
    }
   ],
   "source": [
    "movies[\"crew\"]"
   ]
  },
  {
   "cell_type": "code",
   "execution_count": 40,
   "id": "612f91a8-88d7-4e7f-9438-b684190c6a53",
   "metadata": {},
   "outputs": [],
   "source": [
    "movies['overview'] = movies['overview'].apply(lambda x: [x])  # Convert string to list\n",
    "movies['crew'] = movies['crew'].apply(lambda x: [x] if isinstance(x, str) else x)  # Already done\n"
   ]
  },
  {
   "cell_type": "code",
   "execution_count": null,
   "id": "fe86c5e2-714c-4367-b3f8-5e3b8e8e0514",
   "metadata": {},
   "outputs": [],
   "source": [
    "movies['genres'] = movies['genres'].apply(lambda x: x if isinstance(x, list) else [])  # just in case\n",
    "movies['keywords'] = movies['keywords'].apply(lambda x: x if isinstance(x, list) else [])\n",
    "movies['cast'] = movies['cast'].apply(lambda x: x if isinstance(x, list) else [])"
   ]
  },
  {
   "cell_type": "code",
   "execution_count": 47,
   "id": "bd48bda5-ecf4-45c3-a5b0-785f7678e73e",
   "metadata": {},
   "outputs": [],
   "source": [
    "movies['tags'] = movies['genres'] +  movies['overview'] +  movies['keywords'] +  movies['cast'] +  movies['crew']\n"
   ]
  },
  {
   "cell_type": "code",
   "execution_count": 30,
   "id": "4f5bad08-6779-49a6-95f5-fb97b83f3cae",
   "metadata": {},
   "outputs": [
    {
     "name": "stdout",
     "output_type": "stream",
     "text": [
      "Index(['genres', 'id', 'keywords', 'title', 'overview', 'cast', 'crew'], dtype='object')\n"
     ]
    }
   ],
   "source": [
    "print(movies.columns)\n"
   ]
  },
  {
   "cell_type": "code",
   "execution_count": 48,
   "id": "7c31132d-2e12-4b85-ba7e-f591513ff83b",
   "metadata": {},
   "outputs": [
    {
     "data": {
      "text/html": [
       "<div>\n",
       "<style scoped>\n",
       "    .dataframe tbody tr th:only-of-type {\n",
       "        vertical-align: middle;\n",
       "    }\n",
       "\n",
       "    .dataframe tbody tr th {\n",
       "        vertical-align: top;\n",
       "    }\n",
       "\n",
       "    .dataframe thead th {\n",
       "        text-align: right;\n",
       "    }\n",
       "</style>\n",
       "<table border=\"1\" class=\"dataframe\">\n",
       "  <thead>\n",
       "    <tr style=\"text-align: right;\">\n",
       "      <th></th>\n",
       "      <th>genres</th>\n",
       "      <th>id</th>\n",
       "      <th>keywords</th>\n",
       "      <th>title</th>\n",
       "      <th>overview</th>\n",
       "      <th>cast</th>\n",
       "      <th>crew</th>\n",
       "      <th>tags</th>\n",
       "    </tr>\n",
       "  </thead>\n",
       "  <tbody>\n",
       "    <tr>\n",
       "      <th>0</th>\n",
       "      <td>[]</td>\n",
       "      <td>19995</td>\n",
       "      <td>[]</td>\n",
       "      <td>Avatar</td>\n",
       "      <td>[[In the 22nd century, a paraplegic Marine is ...</td>\n",
       "      <td>[{'cast_id': 242, 'character': 'Jake Sully', '...</td>\n",
       "      <td>[James Cameron]</td>\n",
       "      <td>[[In the 22nd century, a paraplegic Marine is ...</td>\n",
       "    </tr>\n",
       "    <tr>\n",
       "      <th>1</th>\n",
       "      <td>[]</td>\n",
       "      <td>285</td>\n",
       "      <td>[]</td>\n",
       "      <td>Pirates of the Caribbean: At World's End</td>\n",
       "      <td>[[Captain Barbossa, long believed to be dead, ...</td>\n",
       "      <td>[{'cast_id': 4, 'character': 'Captain Jack Spa...</td>\n",
       "      <td>[Gore Verbinski]</td>\n",
       "      <td>[[Captain Barbossa, long believed to be dead, ...</td>\n",
       "    </tr>\n",
       "    <tr>\n",
       "      <th>2</th>\n",
       "      <td>[]</td>\n",
       "      <td>206647</td>\n",
       "      <td>[]</td>\n",
       "      <td>Spectre</td>\n",
       "      <td>[[A cryptic message from Bond’s past sends him...</td>\n",
       "      <td>[{'cast_id': 1, 'character': 'James Bond', 'cr...</td>\n",
       "      <td>[Sam Mendes]</td>\n",
       "      <td>[[A cryptic message from Bond’s past sends him...</td>\n",
       "    </tr>\n",
       "    <tr>\n",
       "      <th>3</th>\n",
       "      <td>[]</td>\n",
       "      <td>49026</td>\n",
       "      <td>[]</td>\n",
       "      <td>The Dark Knight Rises</td>\n",
       "      <td>[[Following the death of District Attorney Har...</td>\n",
       "      <td>[{'cast_id': 2, 'character': 'Bruce Wayne / Ba...</td>\n",
       "      <td>[Christopher Nolan]</td>\n",
       "      <td>[[Following the death of District Attorney Har...</td>\n",
       "    </tr>\n",
       "    <tr>\n",
       "      <th>4</th>\n",
       "      <td>[]</td>\n",
       "      <td>49529</td>\n",
       "      <td>[]</td>\n",
       "      <td>John Carter</td>\n",
       "      <td>[[John Carter is a war-weary, former military ...</td>\n",
       "      <td>[{'cast_id': 5, 'character': 'John Carter', 'c...</td>\n",
       "      <td>[Andrew Stanton]</td>\n",
       "      <td>[[John Carter is a war-weary, former military ...</td>\n",
       "    </tr>\n",
       "  </tbody>\n",
       "</table>\n",
       "</div>"
      ],
      "text/plain": [
       "  genres      id keywords                                     title  \\\n",
       "0     []   19995       []                                    Avatar   \n",
       "1     []     285       []  Pirates of the Caribbean: At World's End   \n",
       "2     []  206647       []                                   Spectre   \n",
       "3     []   49026       []                     The Dark Knight Rises   \n",
       "4     []   49529       []                               John Carter   \n",
       "\n",
       "                                            overview  \\\n",
       "0  [[In the 22nd century, a paraplegic Marine is ...   \n",
       "1  [[Captain Barbossa, long believed to be dead, ...   \n",
       "2  [[A cryptic message from Bond’s past sends him...   \n",
       "3  [[Following the death of District Attorney Har...   \n",
       "4  [[John Carter is a war-weary, former military ...   \n",
       "\n",
       "                                                cast                 crew  \\\n",
       "0  [{'cast_id': 242, 'character': 'Jake Sully', '...      [James Cameron]   \n",
       "1  [{'cast_id': 4, 'character': 'Captain Jack Spa...     [Gore Verbinski]   \n",
       "2  [{'cast_id': 1, 'character': 'James Bond', 'cr...         [Sam Mendes]   \n",
       "3  [{'cast_id': 2, 'character': 'Bruce Wayne / Ba...  [Christopher Nolan]   \n",
       "4  [{'cast_id': 5, 'character': 'John Carter', 'c...     [Andrew Stanton]   \n",
       "\n",
       "                                                tags  \n",
       "0  [[In the 22nd century, a paraplegic Marine is ...  \n",
       "1  [[Captain Barbossa, long believed to be dead, ...  \n",
       "2  [[A cryptic message from Bond’s past sends him...  \n",
       "3  [[Following the death of District Attorney Har...  \n",
       "4  [[John Carter is a war-weary, former military ...  "
      ]
     },
     "execution_count": 48,
     "metadata": {},
     "output_type": "execute_result"
    }
   ],
   "source": [
    "movies.head()"
   ]
  },
  {
   "cell_type": "code",
   "execution_count": 53,
   "id": "d0ee3a3f-7ab1-4587-b3d7-298e1022e0e0",
   "metadata": {},
   "outputs": [],
   "source": [
    "new_df = movies[['id', 'title', 'tags']]"
   ]
  },
  {
   "cell_type": "code",
   "execution_count": 59,
   "id": "e360a56e-5597-401a-b72e-4d413fe191da",
   "metadata": {
    "scrolled": true
   },
   "outputs": [],
   "source": [
    "new_df.loc[:, 'tags'] = new_df['tags'].apply(\n",
    "    lambda x: \" \".join(\n",
    "        str(i)\n",
    "        for sublist in (x if isinstance(x, list) else [])\n",
    "        for i in (sublist if isinstance(sublist, list) else [sublist])\n",
    "        if isinstance(i, (str, int, float))\n",
    "    )\n",
    ")\n"
   ]
  },
  {
   "cell_type": "code",
   "execution_count": 60,
   "id": "d89f8dbb-8b6b-4fa3-ad8a-ed407a9d08a3",
   "metadata": {},
   "outputs": [],
   "source": [
    "new_df = movies[['genres', 'overview', 'keywords', 'cast', 'crew']][0:1000]\n"
   ]
  },
  {
   "cell_type": "code",
   "execution_count": 61,
   "id": "30e1067b-e4cb-45bc-b10f-be4f78eb3bef",
   "metadata": {},
   "outputs": [],
   "source": [
    "new_df = new_df.copy()\n"
   ]
  },
  {
   "cell_type": "code",
   "execution_count": 62,
   "id": "424eb05e-0eef-4c3b-9681-1b81ee742367",
   "metadata": {},
   "outputs": [
    {
     "data": {
      "text/html": [
       "<div>\n",
       "<style scoped>\n",
       "    .dataframe tbody tr th:only-of-type {\n",
       "        vertical-align: middle;\n",
       "    }\n",
       "\n",
       "    .dataframe tbody tr th {\n",
       "        vertical-align: top;\n",
       "    }\n",
       "\n",
       "    .dataframe thead th {\n",
       "        text-align: right;\n",
       "    }\n",
       "</style>\n",
       "<table border=\"1\" class=\"dataframe\">\n",
       "  <thead>\n",
       "    <tr style=\"text-align: right;\">\n",
       "      <th></th>\n",
       "      <th>genres</th>\n",
       "      <th>overview</th>\n",
       "      <th>keywords</th>\n",
       "      <th>cast</th>\n",
       "      <th>crew</th>\n",
       "    </tr>\n",
       "  </thead>\n",
       "  <tbody>\n",
       "    <tr>\n",
       "      <th>0</th>\n",
       "      <td>[]</td>\n",
       "      <td>[[In the 22nd century, a paraplegic Marine is ...</td>\n",
       "      <td>[]</td>\n",
       "      <td>[{'cast_id': 242, 'character': 'Jake Sully', '...</td>\n",
       "      <td>[James Cameron]</td>\n",
       "    </tr>\n",
       "    <tr>\n",
       "      <th>1</th>\n",
       "      <td>[]</td>\n",
       "      <td>[[Captain Barbossa, long believed to be dead, ...</td>\n",
       "      <td>[]</td>\n",
       "      <td>[{'cast_id': 4, 'character': 'Captain Jack Spa...</td>\n",
       "      <td>[Gore Verbinski]</td>\n",
       "    </tr>\n",
       "    <tr>\n",
       "      <th>2</th>\n",
       "      <td>[]</td>\n",
       "      <td>[[A cryptic message from Bond’s past sends him...</td>\n",
       "      <td>[]</td>\n",
       "      <td>[{'cast_id': 1, 'character': 'James Bond', 'cr...</td>\n",
       "      <td>[Sam Mendes]</td>\n",
       "    </tr>\n",
       "    <tr>\n",
       "      <th>3</th>\n",
       "      <td>[]</td>\n",
       "      <td>[[Following the death of District Attorney Har...</td>\n",
       "      <td>[]</td>\n",
       "      <td>[{'cast_id': 2, 'character': 'Bruce Wayne / Ba...</td>\n",
       "      <td>[Christopher Nolan]</td>\n",
       "    </tr>\n",
       "    <tr>\n",
       "      <th>4</th>\n",
       "      <td>[]</td>\n",
       "      <td>[[John Carter is a war-weary, former military ...</td>\n",
       "      <td>[]</td>\n",
       "      <td>[{'cast_id': 5, 'character': 'John Carter', 'c...</td>\n",
       "      <td>[Andrew Stanton]</td>\n",
       "    </tr>\n",
       "  </tbody>\n",
       "</table>\n",
       "</div>"
      ],
      "text/plain": [
       "  genres                                           overview keywords  \\\n",
       "0     []  [[In the 22nd century, a paraplegic Marine is ...       []   \n",
       "1     []  [[Captain Barbossa, long believed to be dead, ...       []   \n",
       "2     []  [[A cryptic message from Bond’s past sends him...       []   \n",
       "3     []  [[Following the death of District Attorney Har...       []   \n",
       "4     []  [[John Carter is a war-weary, former military ...       []   \n",
       "\n",
       "                                                cast                 crew  \n",
       "0  [{'cast_id': 242, 'character': 'Jake Sully', '...      [James Cameron]  \n",
       "1  [{'cast_id': 4, 'character': 'Captain Jack Spa...     [Gore Verbinski]  \n",
       "2  [{'cast_id': 1, 'character': 'James Bond', 'cr...         [Sam Mendes]  \n",
       "3  [{'cast_id': 2, 'character': 'Bruce Wayne / Ba...  [Christopher Nolan]  \n",
       "4  [{'cast_id': 5, 'character': 'John Carter', 'c...     [Andrew Stanton]  "
      ]
     },
     "execution_count": 62,
     "metadata": {},
     "output_type": "execute_result"
    }
   ],
   "source": [
    "new_df.head()"
   ]
  },
  {
   "cell_type": "code",
   "execution_count": 63,
   "id": "ff05d753-2f02-4d4f-a18f-a2ff9531cab3",
   "metadata": {},
   "outputs": [
    {
     "data": {
      "text/html": [
       "<div>\n",
       "<style scoped>\n",
       "    .dataframe tbody tr th:only-of-type {\n",
       "        vertical-align: middle;\n",
       "    }\n",
       "\n",
       "    .dataframe tbody tr th {\n",
       "        vertical-align: top;\n",
       "    }\n",
       "\n",
       "    .dataframe thead th {\n",
       "        text-align: right;\n",
       "    }\n",
       "</style>\n",
       "<table border=\"1\" class=\"dataframe\">\n",
       "  <thead>\n",
       "    <tr style=\"text-align: right;\">\n",
       "      <th></th>\n",
       "      <th>genres</th>\n",
       "      <th>id</th>\n",
       "      <th>keywords</th>\n",
       "      <th>title</th>\n",
       "      <th>overview</th>\n",
       "      <th>cast</th>\n",
       "      <th>crew</th>\n",
       "      <th>tags</th>\n",
       "    </tr>\n",
       "  </thead>\n",
       "  <tbody>\n",
       "    <tr>\n",
       "      <th>0</th>\n",
       "      <td>[]</td>\n",
       "      <td>19995</td>\n",
       "      <td>[]</td>\n",
       "      <td>Avatar</td>\n",
       "      <td>[[In the 22nd century, a paraplegic Marine is ...</td>\n",
       "      <td>[{'cast_id': 242, 'character': 'Jake Sully', '...</td>\n",
       "      <td>[James Cameron]</td>\n",
       "      <td>[[In the 22nd century, a paraplegic Marine is ...</td>\n",
       "    </tr>\n",
       "    <tr>\n",
       "      <th>1</th>\n",
       "      <td>[]</td>\n",
       "      <td>285</td>\n",
       "      <td>[]</td>\n",
       "      <td>Pirates of the Caribbean: At World's End</td>\n",
       "      <td>[[Captain Barbossa, long believed to be dead, ...</td>\n",
       "      <td>[{'cast_id': 4, 'character': 'Captain Jack Spa...</td>\n",
       "      <td>[Gore Verbinski]</td>\n",
       "      <td>[[Captain Barbossa, long believed to be dead, ...</td>\n",
       "    </tr>\n",
       "    <tr>\n",
       "      <th>2</th>\n",
       "      <td>[]</td>\n",
       "      <td>206647</td>\n",
       "      <td>[]</td>\n",
       "      <td>Spectre</td>\n",
       "      <td>[[A cryptic message from Bond’s past sends him...</td>\n",
       "      <td>[{'cast_id': 1, 'character': 'James Bond', 'cr...</td>\n",
       "      <td>[Sam Mendes]</td>\n",
       "      <td>[[A cryptic message from Bond’s past sends him...</td>\n",
       "    </tr>\n",
       "    <tr>\n",
       "      <th>3</th>\n",
       "      <td>[]</td>\n",
       "      <td>49026</td>\n",
       "      <td>[]</td>\n",
       "      <td>The Dark Knight Rises</td>\n",
       "      <td>[[Following the death of District Attorney Har...</td>\n",
       "      <td>[{'cast_id': 2, 'character': 'Bruce Wayne / Ba...</td>\n",
       "      <td>[Christopher Nolan]</td>\n",
       "      <td>[[Following the death of District Attorney Har...</td>\n",
       "    </tr>\n",
       "    <tr>\n",
       "      <th>4</th>\n",
       "      <td>[]</td>\n",
       "      <td>49529</td>\n",
       "      <td>[]</td>\n",
       "      <td>John Carter</td>\n",
       "      <td>[[John Carter is a war-weary, former military ...</td>\n",
       "      <td>[{'cast_id': 5, 'character': 'John Carter', 'c...</td>\n",
       "      <td>[Andrew Stanton]</td>\n",
       "      <td>[[John Carter is a war-weary, former military ...</td>\n",
       "    </tr>\n",
       "  </tbody>\n",
       "</table>\n",
       "</div>"
      ],
      "text/plain": [
       "  genres      id keywords                                     title  \\\n",
       "0     []   19995       []                                    Avatar   \n",
       "1     []     285       []  Pirates of the Caribbean: At World's End   \n",
       "2     []  206647       []                                   Spectre   \n",
       "3     []   49026       []                     The Dark Knight Rises   \n",
       "4     []   49529       []                               John Carter   \n",
       "\n",
       "                                            overview  \\\n",
       "0  [[In the 22nd century, a paraplegic Marine is ...   \n",
       "1  [[Captain Barbossa, long believed to be dead, ...   \n",
       "2  [[A cryptic message from Bond’s past sends him...   \n",
       "3  [[Following the death of District Attorney Har...   \n",
       "4  [[John Carter is a war-weary, former military ...   \n",
       "\n",
       "                                                cast                 crew  \\\n",
       "0  [{'cast_id': 242, 'character': 'Jake Sully', '...      [James Cameron]   \n",
       "1  [{'cast_id': 4, 'character': 'Captain Jack Spa...     [Gore Verbinski]   \n",
       "2  [{'cast_id': 1, 'character': 'James Bond', 'cr...         [Sam Mendes]   \n",
       "3  [{'cast_id': 2, 'character': 'Bruce Wayne / Ba...  [Christopher Nolan]   \n",
       "4  [{'cast_id': 5, 'character': 'John Carter', 'c...     [Andrew Stanton]   \n",
       "\n",
       "                                                tags  \n",
       "0  [[In the 22nd century, a paraplegic Marine is ...  \n",
       "1  [[Captain Barbossa, long believed to be dead, ...  \n",
       "2  [[A cryptic message from Bond’s past sends him...  \n",
       "3  [[Following the death of District Attorney Har...  \n",
       "4  [[John Carter is a war-weary, former military ...  "
      ]
     },
     "execution_count": 63,
     "metadata": {},
     "output_type": "execute_result"
    }
   ],
   "source": [
    "movies.head()"
   ]
  },
  {
   "cell_type": "code",
   "execution_count": 64,
   "id": "105775b4-e032-4ea9-a27a-92c8413097c5",
   "metadata": {},
   "outputs": [
    {
     "data": {
      "text/plain": [
       "<bound method NDFrame.copy of     genres                                           overview keywords  \\\n",
       "0       []  [[In the 22nd century, a paraplegic Marine is ...       []   \n",
       "1       []  [[Captain Barbossa, long believed to be dead, ...       []   \n",
       "2       []  [[A cryptic message from Bond’s past sends him...       []   \n",
       "3       []  [[Following the death of District Attorney Har...       []   \n",
       "4       []  [[John Carter is a war-weary, former military ...       []   \n",
       "..     ...                                                ...      ...   \n",
       "995     []  [[Mind-control technology has taken society by...       []   \n",
       "996     []  [[Ethan Wate just wants to get to know Lena Du...       []   \n",
       "997     []  [[Tells the story of Rainbow Randolph, the cor...       []   \n",
       "998     []  [[Derek and Hansel are modelling again when an...       []   \n",
       "999     []  [[A small-time con artist and a Hawaiian real ...       []   \n",
       "\n",
       "                                                  cast                   crew  \n",
       "0    [{'cast_id': 242, 'character': 'Jake Sully', '...        [James Cameron]  \n",
       "1    [{'cast_id': 4, 'character': 'Captain Jack Spa...       [Gore Verbinski]  \n",
       "2    [{'cast_id': 1, 'character': 'James Bond', 'cr...           [Sam Mendes]  \n",
       "3    [{'cast_id': 2, 'character': 'Bruce Wayne / Ba...    [Christopher Nolan]  \n",
       "4    [{'cast_id': 5, 'character': 'John Carter', 'c...       [Andrew Stanton]  \n",
       "..                                                 ...                    ...  \n",
       "995  [{'cast_id': 1, 'character': 'Kable', 'credit_...         [Brian Taylor]  \n",
       "996  [{'cast_id': 12, 'character': 'Ethan Wate', 'c...  [Richard LaGravenese]  \n",
       "997  [{'cast_id': 8, 'character': 'Rainbow Randolph...         [Danny DeVito]  \n",
       "998  [{'cast_id': 0, 'character': 'Derek Zoolander'...          [Ben Stiller]  \n",
       "999  [{'cast_id': 1, 'character': 'Jack Ryan', 'cre...      [George Armitage]  \n",
       "\n",
       "[1000 rows x 5 columns]>"
      ]
     },
     "execution_count": 64,
     "metadata": {},
     "output_type": "execute_result"
    }
   ],
   "source": [
    "new_df.copy"
   ]
  },
  {
   "cell_type": "code",
   "execution_count": 65,
   "id": "0eec790b-6b09-4cee-ad4f-307eac282bad",
   "metadata": {},
   "outputs": [
    {
     "name": "stdout",
     "output_type": "stream",
     "text": [
      "Collecting nltk\n",
      "  Downloading nltk-3.9.1-py3-none-any.whl.metadata (2.9 kB)\n",
      "Collecting click (from nltk)\n",
      "  Downloading click-8.1.8-py3-none-any.whl.metadata (2.3 kB)\n",
      "Requirement already satisfied: joblib in c:\\users\\mypc\\appdata\\local\\programs\\python\\python312\\lib\\site-packages (from nltk) (1.4.2)\n",
      "Collecting regex>=2021.8.3 (from nltk)\n",
      "  Downloading regex-2024.11.6-cp312-cp312-win_amd64.whl.metadata (41 kB)\n",
      "Collecting tqdm (from nltk)\n",
      "  Downloading tqdm-4.67.1-py3-none-any.whl.metadata (57 kB)\n",
      "Requirement already satisfied: colorama in c:\\users\\mypc\\appdata\\local\\programs\\python\\python312\\lib\\site-packages (from click->nltk) (0.4.6)\n",
      "Downloading nltk-3.9.1-py3-none-any.whl (1.5 MB)\n",
      "   ---------------------------------------- 0.0/1.5 MB ? eta -:--:--\n",
      "   --------------------------- ------------ 1.0/1.5 MB 7.2 MB/s eta 0:00:01\n",
      "   ---------------------------------- ----- 1.3/1.5 MB 8.4 MB/s eta 0:00:01\n",
      "   ---------------------------------------- 1.5/1.5 MB 3.3 MB/s eta 0:00:00\n",
      "Downloading regex-2024.11.6-cp312-cp312-win_amd64.whl (273 kB)\n",
      "Downloading click-8.1.8-py3-none-any.whl (98 kB)\n",
      "Downloading tqdm-4.67.1-py3-none-any.whl (78 kB)\n",
      "Installing collected packages: tqdm, regex, click, nltk\n",
      "Successfully installed click-8.1.8 nltk-3.9.1 regex-2024.11.6 tqdm-4.67.1\n"
     ]
    }
   ],
   "source": [
    "!pip install nltk\n"
   ]
  },
  {
   "cell_type": "code",
   "execution_count": null,
   "id": "7a4d6fa9-0103-48cf-a3a4-6aa576056dec",
   "metadata": {},
   "outputs": [],
   "source": []
  }
 ],
 "metadata": {
  "kernelspec": {
   "display_name": "Python 3 (ipykernel)",
   "language": "python",
   "name": "python3"
  },
  "language_info": {
   "codemirror_mode": {
    "name": "ipython",
    "version": 3
   },
   "file_extension": ".py",
   "mimetype": "text/x-python",
   "name": "python",
   "nbconvert_exporter": "python",
   "pygments_lexer": "ipython3",
   "version": "3.12.4"
  }
 },
 "nbformat": 4,
 "nbformat_minor": 5
}
